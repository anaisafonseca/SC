{
 "metadata": {
  "language_info": {
   "codemirror_mode": {
    "name": "ipython",
    "version": 3
   },
   "file_extension": ".py",
   "mimetype": "text/x-python",
   "name": "python",
   "nbconvert_exporter": "python",
   "pygments_lexer": "ipython3",
   "version": "3.8.3-final"
  },
  "orig_nbformat": 2,
  "kernelspec": {
   "name": "python3",
   "display_name": "Python 3"
  }
 },
 "nbformat": 4,
 "nbformat_minor": 2,
 "cells": [
  {
   "cell_type": "code",
   "execution_count": 9,
   "metadata": {},
   "outputs": [],
   "source": [
    "# Anaísa Forti da Fonseca\n",
    "# 11811ECP012\n",
    "\n",
    "import numpy as np\n",
    "import matplotlib.pyplot as plt\n",
    "import control as ctl\n",
    "from IPython.display import display\n",
    "from ipywidgets import interact, fixed\n",
    "\n",
    "def graph_size(n):\n",
    "    \"\"\"Função auxiliar para definir tamanho dos gráficos\"\"\"\n",
    "    return (n*(1+5**0.5)/2, n)"
   ]
  },
  {
   "cell_type": "code",
   "execution_count": 10,
   "metadata": {},
   "outputs": [
    {
     "output_type": "display_data",
     "data": {
      "text/plain": "interactive(children=(Checkbox(value=False, description='eq'), Checkbox(value=True, description='mf'), Output(…",
      "application/vnd.jupyter.widget-view+json": {
       "version_major": 2,
       "version_minor": 0,
       "model_id": "98bf80084ad24fa983f572d50c881137"
      }
     },
     "metadata": {}
    }
   ],
   "source": [
    "R1, R2, L, C = 10, 300, 10e-1, 10e-6\n",
    "V_i = 10  # Vcc\n",
    "\n",
    "@interact(R1=fixed(R1), R2=fixed(R2), L=fixed(L), C=fixed(C), eq=False, mf=True)\n",
    "def simula_RLC_serie(R1, R2, L, C, eq, mf=True):\n",
    "    # Considerando a malha de realimentação\n",
    "    circuito_aberto = ctl.tf([R2],[C*L*R2, (C*R1*R2)+L, R1])\n",
    "    circuito_fechado = ctl.feedback(circuito_aberto)\n",
    "\n",
    "    # Considerando a FT equivalente\n",
    "    circuito_equivalente = ctl.tf([1/(L*C)],[1, (C*R1*R2+L)/(C*L*R2), (R1+R2)/(L*C*R2)])\n",
    "\n",
    "    print(\"Zeros:\", circuito_equivalente.zero())\n",
    "    print(\"Polos:\", circuito_equivalente.pole())\n",
    "\n",
    "    t = np.linspace(0, 0.1, 1000)\n",
    "    to, vo = ctl.step_response(circuito_fechado, t)\n",
    "    vo = vo*V_i\n",
    "    to2, vo2 = ctl.step_response(circuito_equivalente, t)\n",
    "    vo2 = vo2*V_i\n",
    "    step = lambda t : np.array(list(1 if tau > 0 else 0 for tau in t))\n",
    "\n",
    "    fig = plt.figure(figsize=graph_size(7))\n",
    "    plt.plot(t, V_i*step(t), label='entrada $v_i(t)$')\n",
    "    if mf:\n",
    "        plt.plot(to, vo, label='saída $v_o(t)$, mf')\n",
    "    if eq:\n",
    "        plt.plot(to2, vo2, label='saída $v_o(t)$, eq')\n",
    "    plt.ylabel(\"amplitude [V]\")\n",
    "    plt.xlabel(\"tempo [s]\")\n",
    "    plt.legend()\n",
    "    plt.show()"
   ]
  }
 ]
}